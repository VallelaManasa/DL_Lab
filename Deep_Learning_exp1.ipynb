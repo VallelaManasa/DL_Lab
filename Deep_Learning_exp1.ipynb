{
  "nbformat": 4,
  "nbformat_minor": 0,
  "metadata": {
    "colab": {
      "provenance": [],
      "authorship_tag": "ABX9TyOOPScHGgUgUiEn8BX1QwN5",
      "include_colab_link": true
    },
    "kernelspec": {
      "name": "python3",
      "display_name": "Python 3"
    },
    "language_info": {
      "name": "python"
    }
  },
  "cells": [
    {
      "cell_type": "markdown",
      "metadata": {
        "id": "view-in-github",
        "colab_type": "text"
      },
      "source": [
        "<a href=\"https://colab.research.google.com/github/VallelaManasa/DL_Lab/blob/main/Deep_Learning_exp1.ipynb\" target=\"_parent\"><img src=\"https://colab.research.google.com/assets/colab-badge.svg\" alt=\"Open In Colab\"/></a>"
      ]
    },
    {
      "cell_type": "code",
      "execution_count": 2,
      "metadata": {
        "id": "eGlKm8Wy2lxX"
      },
      "outputs": [],
      "source": [
        "import numpy as np\n",
        "np.random. seed (42)\n",
        "\n",
        "\n",
        "def stepFunction(t):\n",
        "  if t >= 0 :\n",
        "    return 1\n",
        "  return 0\n",
        "\n",
        "def prediction (x,W,b):\n",
        "\n",
        "  return stepfunction((np.matmul(X,W)+b)[0])\n",
        "\n",
        "\n",
        "\n",
        "def perceptronStep(X, y, W, b, learn_rate = 0.01):\n",
        "\n",
        "\n",
        "  for i in range(len(X)):\n",
        "\n",
        "    yhat = prediction(X([i],Wb,b))\n",
        "\n",
        "    if y[i]-yhat == 1:\n",
        "      W[0] += X[i][0]*learn_rate\n",
        "      W[1] += X[i][1]*learn_rate\n",
        "      b -= learn_rate\n",
        "\n",
        "    elif y[i]-yhat == -1:\n",
        "      W[0] -= X[i][0]*learn_rate\n",
        "      W[1] -= X[i][1]*learn_rate\n",
        "      b -= learn_rate\n",
        "  return W, b\n",
        "\n",
        "\n",
        "\n",
        "def trainPerceptronAlgorithm(X, y, learn_rate = 0.01, num_epochs = 25):\n",
        "\n",
        "  x_min, x_max = min(X.T[0]), max(X.T[0])\n",
        "\n",
        "  y_min, y_max = min(X.T[1]), max(X.T[1])\n",
        "\n",
        "  W = np.array(np.random.rand(2,1))\n",
        "  b = np.random.rand(1)[0] + x_max\n",
        "\n",
        "\n",
        "\n",
        "  boundary_lines = []\n",
        "\n",
        "  for i in range(num_epochs):\n",
        "\n",
        "\n",
        "    W, b = perceptronStep( X,y, W, b, learn_rate)\n",
        "    boundary_lines.append ((-W[0]/w[1], -b/w[1]))\n",
        "\n",
        "  return boundary_lines\n"
      ]
    }
  ]
}